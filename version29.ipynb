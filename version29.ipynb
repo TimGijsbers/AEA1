{
 "cells": [
  {
   "cell_type": "markdown",
   "metadata": {},
   "source": [
    "Set up of the assignment:\n",
    "\n",
    "1. Discuss paper by Prufer, insert link of paper \n",
    "- Show tripoly case, calculations by hand, graphs, python\n",
    "- Show duopoly case, just show calculations, graphs, python\n",
    "\n",
    "Discuss implications as presented in the paper. Effects of externalities on competition.\n",
    "\n",
    "2. \n",
    "- apply the model described above to Social media market, find market shares over time, place links"
   ]
  },
  {
   "cell_type": "markdown",
   "metadata": {},
   "source": [
    "# Social Media Competition with Network Externalities\n",
    "\n",
    "Maria Iancheva (398254) Tim Gijsbers (262041)\n",
    "\n",
    "### Introduction\n",
    "\n",
    "In this notebook we show the application of a simple Cournot Model with indirect network effects to the Social Media Market. We use Python to analyse and graphycally represent the model. For this analysis we adopt the developed model by professors Jens Prüfer and Cedric Argenton in the reaserch paper: [\"Search Engine Competition with Network Externalities.\"](https://jensprufer.files.wordpress.com/2014/08/argenton-prufer-search-engine-competition_jcle.pdf) In their research, the authors developed a model for search engine competition taking into account network externalities and show the development of market shares for each player.  "
   ]
  },
  {
   "cell_type": "markdown",
   "metadata": {
    "collapsed": false
   },
   "source": [
    "\n",
    "### Research Question\n",
    "\n",
    "Can we celiberate the search engine model to predict competition in the Social Media market, by comparing market shares of the biggest competitiors from 2011 onwards?\n",
    "\n",
    "\n"
   ]
  },
  {
   "cell_type": "markdown",
   "metadata": {},
   "source": [
    "### Motivation\n",
    "\n",
    "After taking the Seminar on Innovation & Networks taught by professor Prufer and professor Willems, we were intrigued by the model on of search engine competition with indirect network effects. The model's prediction of a market leader (Google) increasing its market shares and driving the smallest player out of the market (Bing) coinside with reality. \n",
    "In the search engine market, the long-term stable outcome will be one monopolist, due to heavy network effects of this market.\n",
    "Knowig that in the Social Media market MySpace was pushed out of the market by Facebook, we wanted to check whether the model can be caliberated to account for this event. \n"
   ]
  },
  {
   "cell_type": "markdown",
   "metadata": {},
   "source": [
    "### Method \n",
    "\n",
    "Firstly, we replicate graphically the Triopoly Search Engine Model with Network Externalities then we show the Duopoly case and lastly we caliberate the parameters to fit the Social Media Market and show that in this case the model again predicts tipping of the market. "
   ]
  },
  {
   "cell_type": "markdown",
   "metadata": {},
   "source": [
    "### Assumptions\n",
    "\n",
    "* We use the profit maximazation functions for Triopoly and Duopoly examples explained in [\"Search Engine Competition with Network Externalities.\"](https://jensprufer.files.wordpress.com/2014/08/argenton-prufer-search-engine-competition_jcle.pdf)\n",
    "    * In the Triopoly case, each company maximizes the following function:\n",
    "     \n",
    "     $$ \\pi_i = \\frac{x_i p}{x_1+x_2+x_3} - \\frac {x_i}{N_i} - F $$\n",
    "    * In the Duopoly case, each company maximizes the following function: \n",
    "     \n",
    "     $$ \\pi_i = \\frac{x_i p}{x_1+x_2} - \\frac {x_i}{N_i} - F $$\n",
    "     \n",
    "* The calcutaions are presented in the Appendix of the article.\n",
    "\n",
    "The following assumptions are stated in the article:\n",
    "* Competition is modelled as a contest among search engines with simultaneous bids $x_i$, where $x_i$ is firm i's search quality.\n",
    "* In triopoly case n=3 and duopoly n=2\n",
    "* Market share for firm i is:\n",
    "$$ D_i = \\frac{x_i}{\\sum_{j=1}^{n}x_j} $$\n",
    "* Production of quality x_i comes at a cost $$ C(x_i) = \\frac{x_i}{N_i} $$\n",
    "* where $N_i$ is the installed base (the amount of previous search queries run on i.) $N_1$>$N_2$>$N_3$ = 1\n"
   ]
  },
  {
   "cell_type": "markdown",
   "metadata": {},
   "source": [
    "### Execution \n",
    "\n",
    "#### Importing Libraries\n"
   ]
  },
  {
   "cell_type": "code",
   "execution_count": 22,
   "metadata": {
    "collapsed": false
   },
   "outputs": [],
   "source": [
    "import matplotlib.pyplot as plt\n",
    "%matplotlib inline\n",
    "import numpy as np\n",
    "from math import *"
   ]
  },
  {
   "cell_type": "markdown",
   "metadata": {},
   "source": [
    "### Triopoly case"
   ]
  },
  {
   "cell_type": "markdown",
   "metadata": {},
   "source": [
    "Using the equations from the Appendix of the artcile for the Triopoly case, where each company maximizes the following function:\n",
    "\n",
    "$$ \\pi_i = \\frac{x_i p}{x_1+x_2+x_3} - \\frac {x_i}{N_i} - F $$\n",
    "We plug in the following functions for the quality $x_i$:\n",
    "\n",
    "$$ x_1 = \\sqrt{\\frac{p^2 N_1^2 N_2^2}{(N_2+N_1(1+N_2))^2)}}- \\frac{4pN_1 N_2^2}{(N_2+ N_1(1+N_2))^2} $$\n",
    "\n",
    "$$ x_2 = \\frac {2pN_1 N_2 (N_1 (N_2 - 1) + N_2}{(N_2 + N_1(1+N_2)^2}$$\n",
    "\n",
    "$$ x_3 = \\frac {2pN_1 N_2 (-N_1 (N_2 - 1) + N_2}{(N_2 + N_1(1+N_2)^2}$$\n",
    "\n",
    "And for the Market share for each company $D_i$:\n",
    "\n",
    "$$ D_1 = 1 - \\frac {2N_2}{N_2 + N_1(1+ N_2)}$$\n",
    "\n",
    "$$ D_2 = 1 - \\frac {2N_1}{N_2 + N_1(1+ N_2)}$$\n",
    "\n",
    "$$ D_3 = \\frac {N_1(1-N_2) + N_2}{N_2 + N_1(1+ N_2)}$$\n",
    "\n",
    "The authors gave values to the parameters so that we can graph the quality and market shares: p=1 and $N_2$ = 1.2."
   ]
  },
  {
   "cell_type": "code",
   "execution_count": 23,
   "metadata": {
    "collapsed": false
   },
   "outputs": [],
   "source": [
    "p=1.0\n",
    "N2 = 1.2\n",
    "\n",
    "def triopoly1 (N1):\n",
    "    return sqrt(((p**2)*(N1**2)*(N2**2))/((N2+N1*(1+N2))**2))- (4*p*N1*(N2**2))/((N2+ N1*(1+N2))**2)\n",
    "\n",
    "def triopoly2 (N1):\n",
    "    return (2*p*N1*N2*(N1*(N2-1)+N2)) / ((N2+N1*(1+N2))**2)\n",
    "\n",
    "def triopoly3 (N1):\n",
    "    return (2*p*N1*N2*(-N1*(N2-1)+N2)) / ((N2+N1*(1+N2))**2)\n",
    "\n",
    "def triopolyMS1 (N1):\n",
    "    return 1-((2*N2)/(N2+N1*(1+N2)))\n",
    "\n",
    "def triopolyMS2 (N1):\n",
    "    return 1-((2*N1)/(N2+N1*(1+N2)))\n",
    "\n",
    "def triopolyMS3 (N1):\n",
    "    return (N1*(1-N2) +N2)/(N2+N1*(1+N2))"
   ]
  },
  {
   "cell_type": "markdown",
   "metadata": {},
   "source": [
    "In order to graph how $x_i$ and $D_i$ change with $N_1$, we create a range for x and $N_1$ values:"
   ]
  },
  {
   "cell_type": "code",
   "execution_count": 24,
   "metadata": {
    "collapsed": false
   },
   "outputs": [
    {
     "ename": "NameError",
     "evalue": "name 'arange' is not defined",
     "output_type": "error",
     "traceback": [
      "\u001b[1;31m---------------------------------------------------------------------------\u001b[0m",
      "\u001b[1;31mNameError\u001b[0m                                 Traceback (most recent call last)",
      "\u001b[1;32m<ipython-input-24-f246d765dcd9>\u001b[0m in \u001b[0;36m<module>\u001b[1;34m()\u001b[0m\n\u001b[1;32m----> 1\u001b[1;33m \u001b[0mrange_N1\u001b[0m \u001b[1;33m=\u001b[0m \u001b[0marange\u001b[0m\u001b[1;33m(\u001b[0m\u001b[1;36m1.2\u001b[0m\u001b[1;33m,\u001b[0m\u001b[1;36m10\u001b[0m\u001b[1;33m,\u001b[0m\u001b[1;36m1\u001b[0m\u001b[1;33m)\u001b[0m\u001b[1;33m\u001b[0m\u001b[0m\n\u001b[0m\u001b[0;32m      2\u001b[0m \u001b[1;33m\u001b[0m\u001b[0m\n\u001b[0;32m      3\u001b[0m \u001b[0mrange_x\u001b[0m \u001b[1;33m=\u001b[0m \u001b[0marange\u001b[0m\u001b[1;33m(\u001b[0m\u001b[1;33m-\u001b[0m\u001b[1;36m1.0\u001b[0m\u001b[1;33m,\u001b[0m\u001b[1;36m1\u001b[0m\u001b[1;33m,\u001b[0m\u001b[1;36m0.01\u001b[0m\u001b[1;33m)\u001b[0m\u001b[1;33m\u001b[0m\u001b[0m\n\u001b[0;32m      4\u001b[0m \u001b[0mrange_triopoly1\u001b[0m \u001b[1;33m=\u001b[0m \u001b[1;33m[\u001b[0m\u001b[0mtriopoly1\u001b[0m\u001b[1;33m(\u001b[0m\u001b[0mN1\u001b[0m\u001b[1;33m)\u001b[0m \u001b[1;32mfor\u001b[0m \u001b[0mN1\u001b[0m \u001b[1;32min\u001b[0m \u001b[0mrange_N1\u001b[0m\u001b[1;33m]\u001b[0m\u001b[1;33m\u001b[0m\u001b[0m\n\u001b[0;32m      5\u001b[0m \u001b[0mrange_triopoly2\u001b[0m \u001b[1;33m=\u001b[0m \u001b[1;33m[\u001b[0m\u001b[0mtriopoly2\u001b[0m\u001b[1;33m(\u001b[0m\u001b[0mN1\u001b[0m\u001b[1;33m)\u001b[0m \u001b[1;32mfor\u001b[0m \u001b[0mN1\u001b[0m \u001b[1;32min\u001b[0m \u001b[0mrange_N1\u001b[0m\u001b[1;33m]\u001b[0m\u001b[1;33m\u001b[0m\u001b[0m\n",
      "\u001b[1;31mNameError\u001b[0m: name 'arange' is not defined"
     ]
    }
   ],
   "source": [
    "range_N1 = arange(1.2,10,1)\n",
    "\n",
    "range_x = arange(-1.0,1,0.01)\n",
    "range_triopoly1 = [triopoly1(N1) for N1 in range_N1]\n",
    "range_triopoly2 = [triopoly2(N1) for N1 in range_N1]\n",
    "range_triopoly3 = [triopoly3(N1) for N1 in range_N1]\n",
    "range_triopolyMS1 = [triopolyMS1(N1) for N1 in range_N1]\n",
    "range_triopolyMS2 = [triopolyMS2(N1) for N1 in range_N1]\n",
    "range_triopolyMS3 = [triopolyMS3(N1) for N1 in range_N1]\n"
   ]
  },
  {
   "cell_type": "markdown",
   "metadata": {},
   "source": [
    "Then we plot the graph of quality and how quality changes with the installed base $N_1$."
   ]
  },
  {
   "cell_type": "code",
   "execution_count": null,
   "metadata": {
    "collapsed": false
   },
   "outputs": [],
   "source": [
    "plt.clf()\n",
    "plt.plot(range_N1, range_triopoly1,'-', color = 'r', linewidth = 2)\n",
    "plt.plot(range_N1, range_triopoly2,'-', color = 'b', linewidth = 2)\n",
    "plt.plot(range_N1, range_triopoly3,'-', color = 'g', linewidth = 2)\n",
    "plt.title(\"Equilibrium quality\",fontsize = 15)\n",
    "plt.xlabel(\"$N_1$\",fontsize = 15)\n",
    "plt.ylabel(\"$x_i$\",fontsize = 15,rotation = 90)\n",
    "\n",
    "plt.annotate('$x_1$', xy=(7,triopoly1(8)),  xycoords='data', size = 15\n",
    "             )\n",
    "plt.annotate('$x_2$', xy=(7,triopoly2(5)),  xycoords='data', size = 15\n",
    "             )\n",
    "plt.annotate('$x_3$', xy=(7,triopoly3(5)),  xycoords='data', size = 15\n",
    "             )            \n",
    "              \n",
    "\n",
    "plt.xlim(1.2,9)\n",
    "plt.ylim(-0.5,1,0.1)"
   ]
  },
  {
   "cell_type": "markdown",
   "metadata": {},
   "source": [
    "Then we plot the market share $D_i$ against $N_1$. The graph represented here replicates Figure 1 from the article and shows how the Market is tipping. Firm 1, which starts the highest installed base is progresiely gaining market shares, whereas firm 3 market share falls negative with the increase of $N_1$. We recplicated the conclusion that the authors reached that firm 3 evnds up exiting the market and the triopoly turns into duopoly. Next we will see the Duopoly case. "
   ]
  },
  {
   "cell_type": "code",
   "execution_count": null,
   "metadata": {
    "collapsed": false
   },
   "outputs": [],
   "source": [
    "plt.clf()\n",
    "plt.plot(range_N1, range_triopolyMS1,'-', color = 'r', linewidth = 2)\n",
    "plt.plot(range_N1, range_triopolyMS2,'-', color = 'b', linewidth = 2)\n",
    "plt.plot(range_N1, range_triopolyMS3,'-', color = 'g', linewidth = 2)\n",
    "plt.title(\"Equilibrium Market Share\",fontsize = 15)\n",
    "plt.xlabel(\"$N_1$\",fontsize = 15)\n",
    "plt.ylabel(\"$D_i$\",fontsize = 15,rotation = 90)\n",
    "plt.annotate('$D_1$', xy=(7,triopolyMS1(8)),  xycoords='data', size = 15\n",
    "             )\n",
    "plt.annotate('$D_2$', xy=(7,triopolyMS2(5)),  xycoords='data', size = 15\n",
    "             )\n",
    "plt.annotate('$D_3$', xy=(7,triopolyMS3(5)),  xycoords='data', size = 15\n",
    "             )\n",
    "\n",
    "plt.xlim(1.2,9)\n",
    "plt.ylim(-0.1,1,0.1)"
   ]
  },
  {
   "cell_type": "markdown",
   "metadata": {},
   "source": [
    "### Duopoly case\n",
    "\n",
    "Using the equations from the Appendix of the artcile for the Duopoly case, where each company maximizes the following function:\n",
    "\n",
    "$$ \\pi_i = \\frac{x_i p}{x_1+x_2} - \\frac {x_i}{N_i} - F $$\n",
    "We plug in the following functions for the quality $x_i$:\n",
    "\n",
    "$$ x_1 = \\frac{N_1^2 N_2 p}{(N_2+N_1)^2)} $$\n",
    "\n",
    "$$ x_2 = \\frac {p N_1 N_2^2}{(N_2 + N_1)^2}$$\n",
    "\n",
    "And for the Market share for each company $D_i$:\n",
    "\n",
    "$$ D_1 = \\frac {N_1}{ N_2+ N_1}$$\n",
    "\n",
    "$$ D_2 = \\frac {N_2}{N_2 + N_1}$$\n",
    "\n",
    "The authors gave values to the parameters so that we can graph the quality and market shares: p=1 and $N_2$ = 1."
   ]
  },
  {
   "cell_type": "code",
   "execution_count": null,
   "metadata": {
    "collapsed": false
   },
   "outputs": [],
   "source": [
    "p=1.0\n",
    "N2=1.0\n",
    "\n",
    "def function1(N1):\n",
    "    return (N1**2)*N2*p/((N2+N1)**2)\n",
    "def function2(N1):\n",
    "    return N1*p*(N2**2)/((N2+N1)**2)\n",
    "def Marketshare1(N1):\n",
    "    return N1/(N1+N2)\n",
    "def Marketshare2 (N1):\n",
    "    return N2/(N1+N2)"
   ]
  },
  {
   "cell_type": "markdown",
   "metadata": {},
   "source": [
    "In order to graph how $x_i$ and $D_i$ change with $N_1$, we create a range for x and $N_1$ values:"
   ]
  },
  {
   "cell_type": "code",
   "execution_count": null,
   "metadata": {
    "collapsed": false
   },
   "outputs": [],
   "source": [
    "range_N1 = arange(1.2,10,1)\n",
    "\n",
    "range_x = arange(0.0,1,0.01)\n",
    "range_function1 = [function1(N1) for N1 in range_N1]\n",
    "range_function2 = [function2(N1) for N1 in range_N1]\n",
    "range_Marketshare1 = [function1(N1) for N1 in range_N1]\n",
    "range_Marketshare2 = [function2(N1) for N1 in range_N1]"
   ]
  },
  {
   "cell_type": "markdown",
   "metadata": {},
   "source": [
    "Then we plot the graph of quality and how quality changes with the installed base $N_1$."
   ]
  },
  {
   "cell_type": "code",
   "execution_count": null,
   "metadata": {
    "collapsed": false,
    "scrolled": true
   },
   "outputs": [],
   "source": [
    "plt.clf()\n",
    "plt.plot(range_N1, range_function1,'-', color = 'r', linewidth = 2)\n",
    "plt.plot(range_N1, range_function2,'-', color = 'b', linewidth = 2)\n",
    "plt.title(\"Equilibrium quality\",fontsize = 15)\n",
    "plt.xlabel(\"$N_1$\",fontsize = 15)\n",
    "plt.ylabel(\"$x_i$\",fontsize = 15,rotation = 90)\n",
    "plt.annotate('$x_1$', xy=(5,function1(7)),  xycoords='data', size = 15\n",
    "             )\n",
    "plt.annotate('$x_2$', xy=(5,function2(4)),  xycoords='data', size = 15\n",
    "             )\n",
    "              \n",
    "\n",
    "\n",
    "plt.xlim(1.2,9)\n",
    "plt.ylim(0.0,1,0.1)\n"
   ]
  },
  {
   "cell_type": "markdown",
   "metadata": {},
   "source": [
    "Then we graph the Market Share $D_i$ and how it changes with the installed base $N_1$."
   ]
  },
  {
   "cell_type": "code",
   "execution_count": null,
   "metadata": {
    "collapsed": false
   },
   "outputs": [],
   "source": [
    "plt.clf()\n",
    "plt.plot(range_N1, range_Marketshare1,'-', color = 'r', linewidth = 2)\n",
    "plt.plot(range_N1, range_Marketshare2,'-', color = 'b', linewidth = 2)\n",
    "plt.title(\"Equilibrium Market Shares\",fontsize = 15)\n",
    "plt.xlabel(\"$N_1$\",fontsize = 15)\n",
    "plt.ylabel(\"$D_i$\",fontsize = 15,rotation = 90)\n",
    "plt.annotate('$D_1$', xy=(6,function1(7)),  xycoords='data', size = 15\n",
    "             )\n",
    "plt.annotate('$D_2$', xy=(6,function2(5)),  xycoords='data', size = 15\n",
    "             )\n",
    "              \n",
    "\n",
    "plt.xlim(1.2,9)\n",
    "plt.ylim(0.0,1,0.1)"
   ]
  },
  {
   "cell_type": "markdown",
   "metadata": {},
   "source": [
    "### Using the model in the Social Media Market"
   ]
  },
  {
   "cell_type": "markdown",
   "metadata": {},
   "source": [
    "In this part we will apply the model described above to the Social Media market. In the graph below, we present all firms in this market, and their market shares from 2011 - 2016. This graph has been created by Priit Kallas, and the original graph can be found [here](http://www.dreamgrow.com/top-10-social-networking-sites-market-share-of-visits/). In the graph, market share is defined as the percentage of users using the Social Media product. The y-axis is a logaritmic scale, since there are a lot of very small players in the market. "
   ]
  },
  {
   "cell_type": "code",
   "execution_count": null,
   "metadata": {
    "collapsed": false
   },
   "outputs": [],
   "source": [
    "from IPython.display import Image\n",
    "from IPython.core.display import HTML \n",
    "Image(url= \"https://github.com/TimGijsbers/AEA1/blob/master/Total.png\")"
   ]
  },
  {
   "cell_type": "markdown",
   "metadata": {},
   "source": [
    "What we see if we look at the graph, is that there are three large players in 2008, Myspace, Youtube and facebook. The other firms that are active in the Social Media market each have a market share of at most 2%, so we will ignore them for our analysis. What we are left with is effectively a Triopoly market. One firm that immediately catches attention is Myspace. The market share of this firm dropped very fast after 2008. In order to focus more on the behavior of the largest three players, we created a different graph. This graph is presented below, and shows only the three largest firms, from the period 2008 - 2011."
   ]
  },
  {
   "cell_type": "code",
   "execution_count": null,
   "metadata": {
    "collapsed": false
   },
   "outputs": [],
   "source": [
    "from IPython.display import Image\n",
    "from IPython.core.display import HTML \n",
    "Image(url= \"https://github.com/TimGijsbers/AEA1/blob/master/2008.png\")"
   ]
  },
  {
   "cell_type": "markdown",
   "metadata": {},
   "source": [
    "You can look at these three firms as the triopoly case we described earlier. In this situation, we expect that one of the firms will recieve a lower and lower market share, while the other two firms expand. In the case of Facebook vs Myspace, this is quite comparable to the Search Engine market. Both firms offer a very comparable product, but the more people that use one brand, the more attractive it becomes. If all of your friends have a facebook account, you will probably see little reason to open up a Myspace account. As the model predicts, over time one of the firms will lose market share and eventually leave the market. "
   ]
  },
  {
   "cell_type": "markdown",
   "metadata": {},
   "source": [
    "Now we are left with two large players, Facebook and Youtube. The model predicts that one of them should lose market share over time, making the other one effectively a monopolist. To analyse this, we created another graph, this time showing only Facebook and Youtube, for the period 2012 - 2016."
   ]
  },
  {
   "cell_type": "code",
   "execution_count": null,
   "metadata": {
    "collapsed": true
   },
   "outputs": [],
   "source": [
    "from IPython.display import Image\n",
    "from IPython.core.display import HTML \n",
    "Image(url= \"https://github.com/TimGijsbers/AEA1/blob/master/2016.png\")"
   ]
  },
  {
   "cell_type": "markdown",
   "metadata": {},
   "source": [
    "What we see in this graph contradicts the outcome of the model. Where we expected to find that one firm would take over the market, it seems that they are slowly converging over time. We believe that this is due to the different type of service that Facebook and Youtube offer. Where Myspace and Facebook offered an almost identical product, Facebook and Youtube offer different servicss. This makes it more likely that a user will use both products, but use them both for a different goal. We do not end up in a monopoly market structure, but in a structure with monopolistic competition."
   ]
  },
  {
   "cell_type": "markdown",
   "metadata": {},
   "source": [
    "### Conclusion\n",
    "\n"
   ]
  },
  {
   "cell_type": "markdown",
   "metadata": {},
   "source": [
    "In this notebook, we first have shown how the model by[Jens Prüfer and Cedric Argenton](https://jensprufer.files.wordpress.com/2014/08/argenton-prufer-search-engine-competition_jcle.pdf) works. We have shown the examples of a Triopoly and Duopoly market, to illustrate the impact of Network effects on a cournot market.\n",
    "\n",
    "After the introduction of the model, we compared the model to the Social Media market. We conclude that the Cournot model with network effects can be used as an approximation for the social media market. However, this only works as long as the services that 2 firms provide are close enough to one another. If two firms offer an almost identical service (Myspace and Facebook), we expect one of them to leave the market over time. However, if the sevices provided differ (Facebook and Youtube), there is room for multiple firms in one market. In the latter case we end up with monopolistic competition, instead of a monopoly.\n",
    "\n",
    "Specifically for the Social Media market, we find that firms provide hetrogenous products. We observe two large firms, Facebook and Youtube, who offer different services to their users. This allows users to make use of both Social Media, using them as complements instead of substitutes. Next to that we have a lot of smaller firms in the market, who operate in Niche markets. These firms have less that 2 percent market share each, and most of them offer a specific type of service. Over time you would expect most of the niche players to exit the market again, unless they can attract a large enough user base by offering a different product. If their product is too close to Facebook or Youtube (or even another niche player), we expect to see what the model predicts, where one firm exits the market after a few periods. \n",
    "\n",
    "We see no direct way of preventing Facebook and Youtube from maintaining their dominant position, unless you force them to cooperate with other Social Media firms."
   ]
  },
  {
   "cell_type": "markdown",
   "metadata": {},
   "source": [
    "### The method we use to answer our research question\n",
    "\n",
    "First show how theory predicts triopoly case and duopoly case in a cournot market. Then use these models in combinations with our own model.\n",
    "\n",
    "* Give the answer that you find.\n",
    "  - In a Market with a high level of indirect network effects, there will be one monopolist eventually. Competitors will leave the market one by one until only one firm is left.\n",
    "* Mention the main assumptions that you need to get this answer.\n",
    "    - That social media depend a lot on (indirect) network effects, and that we can compare them with a search engine market.\n",
    "\n",
    "When you use information,\n",
    "create a link to this information. The reader then only needs to click to find the relevant information.If you use data, \n",
    "present graphs of the data. If you use equations, use latex to make them easy to read. Explain your code, the reader must be \n",
    "able to easily follow what you are doing. Present a clear conclusion/answer to your question. Programming is great to do \n",
    "sensitivity analysis, just to the same you did before, but now with different parameter values. Include some discussion of \n",
    "what you find and elements on which you need additional information. To increase readability, use internal links. E.g. when you \n",
    "refer to the conclusion, create a link to it so that the reader can quickly glance what you have done and go back to where she/he \n",
    "was reading. For this to work, you need to export the notebook to html. You do not have to do this, but it will impress us if you \n",
    "manage it."
   ]
  }
 ],
 "metadata": {
  "anaconda-cloud": {},
  "kernelspec": {
   "display_name": "Python 3",
   "language": "python",
   "name": "python3"
  },
  "language_info": {
   "codemirror_mode": {
    "name": "ipython",
    "version": 3
   },
   "file_extension": ".py",
   "mimetype": "text/x-python",
   "name": "python",
   "nbconvert_exporter": "python",
   "pygments_lexer": "ipython3",
   "version": "3.5.1"
  }
 },
 "nbformat": 4,
 "nbformat_minor": 1
}
